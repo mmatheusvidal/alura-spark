{
 "cells": [
  {
   "cell_type": "code",
   "execution_count": null,
   "id": "6d778e6c-136b-4f9c-b44a-5cd495a2e023",
   "metadata": {},
   "outputs": [],
   "source": [
    "import findspark\n",
    "import os\n",
    "\n",
    "from pyspark.sql import SparkSession\n",
    "\n",
    "os.environ[\"SPARK_HOME\"] = \"C:\\spark\\spark-3.3.0-bin-hadoop3\"\n",
    "\n",
    "findspark.init()"
   ]
  },
  {
   "cell_type": "code",
   "execution_count": null,
   "id": "5cf5b968-e175-4642-8d59-d4d3dcaa7b6c",
   "metadata": {},
   "outputs": [],
   "source": [
    "spark = SparkSession.builder.master(\"local[*]\").getOrCreate()"
   ]
  },
  {
   "cell_type": "code",
   "execution_count": null,
   "id": "16fa6473-9f63-4fb0-9b2d-8bb4e36e5a19",
   "metadata": {},
   "outputs": [],
   "source": [
    "spark"
   ]
  },
  {
   "cell_type": "code",
   "execution_count": null,
   "id": "2b15891a-5599-4892-8849-35af84356904",
   "metadata": {},
   "outputs": [],
   "source": []
  },
  {
   "cell_type": "code",
   "execution_count": null,
   "id": "ccddea5b-7e82-45b5-98f9-dc905a16c6ab",
   "metadata": {},
   "outputs": [],
   "source": []
  }
 ],
 "metadata": {
  "kernelspec": {
   "display_name": "Python 3 (ipykernel)",
   "language": "python",
   "name": "python3"
  },
  "language_info": {
   "codemirror_mode": {
    "name": "ipython",
    "version": 3
   },
   "file_extension": ".py",
   "mimetype": "text/x-python",
   "name": "python",
   "nbconvert_exporter": "python",
   "pygments_lexer": "ipython3",
   "version": "3.7.9"
  },
  "vscode": {
   "interpreter": {
    "hash": "92cb572764e1b88c21accc9ef0d0fad414a3be981de71089b5313a9e32f28f2a"
   }
  }
 },
 "nbformat": 4,
 "nbformat_minor": 5
}
